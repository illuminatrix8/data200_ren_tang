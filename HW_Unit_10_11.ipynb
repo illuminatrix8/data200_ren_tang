{
 "cells": [
  {
   "cell_type": "markdown",
   "metadata": {},
   "source": [
    "## Week 10 and 11 Assignment - DATASCI200 Introduction to Data Science Programming, UC Berkeley MIDS\n",
    "\n",
    "Write code in this Jupyter Notebook to solve the following problems. Please upload this **Notebook** with your solutions to your GitHub repository and provide a link in the last question in gradescope. \n",
    "\n",
    "Assignment due date: 11:59PM PT the night before the Week 12 Live Session. Do **NOT** push/upload the data file. "
   ]
  },
  {
   "cell_type": "markdown",
   "metadata": {},
   "source": [
    "## Objectives\n",
    "\n",
    "- Explore and glean insights from a real dataset using pandas\n",
    "- Practice using pandas for exploratory analysis, information gathering, and discovery\n",
    "- Practice cleaning data and answering questions"
   ]
  },
  {
   "cell_type": "markdown",
   "metadata": {},
   "source": [
    "## General Guidelines:\n",
    "\n",
    "- This is a **real** dataset and so it may contain errors and other pecularities to work through\n",
    "- This dataset is ~218mb, which will take some time to load (and probably won't load in Google Sheets or Excel)\n",
    "- If you make assumptions, annotate them in your responses\n",
    "- While there is one code/markdown cell positioned after each question as a placeholder, some of your code/responses may require multiple cells\n",
    "- Double-click the markdown cells that say for example **1a answer here:** to enter your written answers. If you need more cells for your written answers, make them markdown cells (rather than code cells)\n",
    "- This homework assignment is not autograded because of the variety of responses one could give. \n",
    "  - Please upload this notebook to the autograder page and the TAs will manually grade it. \n",
    "  - Ensure that each cell is run and outputs your answer for ease of grading! \n",
    "  - Highly suggest to do a `restart & run all` before uploading your code to ensure everything runs and outputs correctly.\n",
    "  - Answers without code (or code that runs) will be given 0 points.\n",
    "- **This is meant to simulate real world data so you will have to do some external research to determine what some of the answers are!** "
   ]
  },
  {
   "cell_type": "markdown",
   "metadata": {},
   "source": [
    "## Dataset\n",
    "\n",
    "You are to analyze campaign contributions to the 2016 U.S. presidential primary races made in California. Use the csv file located here: https://drive.google.com/file/d/1Lgg-PwXQ6TQLDowd6XyBxZw5g1NGWPjB/view?usp=sharing. You should download and save this file in the same folder as this notebook is stored.  This file originally came from the U.S. Federal Election Commission (https://www.fec.gov/).\n",
    "\n",
    "**DO NOT PUSH THIS FILE TO YOUR GITHUB REPO!**\n",
    "\n",
    "- Best practice is to not have DATA files in your code repo. As shown below, the default load is outside of the folder this notebook is in. If you change the folder where the file is stored please update the first cell!\n",
    "- If you do accidentally push the file to your github repo - follow the directions here to fix it: https://docs.google.com/document/d/15Irgb5V5G7pKPWgAerH7FPMpKeQRunbNflaW-hR2hTA/edit?usp=sharing\n",
    "\n",
    "Documentation for this data can be found here: https://drive.google.com/file/d/11o_SByceenv0NgNMstM-dxC1jL7I9fHL/view?usp=sharing"
   ]
  },
  {
   "cell_type": "markdown",
   "metadata": {},
   "source": [
    "## Data Questions\n",
    "\n",
    "You are working for a California state-wide election campaign. Your boss wants you to examine historic 2016 election contribution data to see what zipcodes are more supportive of fundraising for your candidate. \n",
    "\n",
    "Your boss asks you to filter out some of the records:\n",
    "- Only use primary 2016 contribution data (more like how your race is).\n",
    "- Concentrate on Bernie Sanders as a candidate (most a like your candidate)\n",
    "\n",
    "The questions your boss wants answered is:\n",
    "- Which zipcode (5-digit zipcode) had the highest count of contributions and the most dollar amount?\n",
    "- What day(s) of the month do most people donate?"
   ]
  },
  {
   "cell_type": "markdown",
   "metadata": {},
   "source": [
    "## Setup\n",
    "\n",
    "Run the cell below as it will load the data into a pandas dataframe named `contrib`. Note that a custom date parser is defined to speed up loading. If Python were to guess the date format, it would take even longer to load."
   ]
  },
  {
   "cell_type": "code",
   "execution_count": 154,
   "metadata": {},
   "outputs": [
    {
     "name": "stderr",
     "output_type": "stream",
     "text": [
      "/var/folders/0m/zy7vbghn7vd1f4hk_kfpr9880000gn/T/ipykernel_42589/3949109043.py:14: FutureWarning: The argument 'date_parser' is deprecated and will be removed in a future version. Please use 'date_format' instead, or read your data in as 'object' dtype and then call 'to_datetime'.\n",
      "  contrib = pd.read_csv('./P00000001-CA.csv', index_col=False, parse_dates=['contb_receipt_dt'], date_parser=d)\n",
      "/var/folders/0m/zy7vbghn7vd1f4hk_kfpr9880000gn/T/ipykernel_42589/3949109043.py:14: DtypeWarning: Columns (6,11,12) have mixed types. Specify dtype option on import or set low_memory=False.\n",
      "  contrib = pd.read_csv('./P00000001-CA.csv', index_col=False, parse_dates=['contb_receipt_dt'], date_parser=d)\n"
     ]
    }
   ],
   "source": [
    "import pandas as pd\n",
    "import numpy as np\n",
    "from datetime import datetime\n",
    "\n",
    "# These commands below set some options for pandas and to have matplotlib show the charts in the notebook\n",
    "pd.set_option('display.max_rows', 1000)\n",
    "pd.options.display.float_format = '{:,.2f}'.format\n",
    "\n",
    "# Define a date parser to pass to read_csv\n",
    "d = lambda x: datetime.strptime(x, '%d-%b-%y')\n",
    "\n",
    "# Load the data\n",
    "# We have this defaulted to the folder OUTSIDE of your repo - please change it as needed\n",
    "contrib = pd.read_csv('./P00000001-CA.csv', index_col=False, parse_dates=['contb_receipt_dt'], date_parser=d)\n",
    "\n",
    "# Note - for now, it is okay to ignore the warning about mixed types. "
   ]
  },
  {
   "cell_type": "markdown",
   "metadata": {},
   "source": [
    "***\n",
    "## 1. Initial Data Checks (50 points)\n",
    "\n",
    "First we will take a preliminary look at the data to check that it was loaded correctly and contains the info we need.\n",
    "\n",
    "The questions to answer at the end of this section:\n",
    "- Do we have the correct # of columns and rows. \n",
    "- Do the records contain data for the questions we want to answer \n",
    "- What columns are important? \n",
    "- What columns can be dropped?\n",
    "- What are the data problems?"
   ]
  },
  {
   "cell_type": "markdown",
   "metadata": {},
   "source": [
    "**1a.** Print the *shape* of the data. Does this match the expectation? (2 points)"
   ]
  },
  {
   "cell_type": "code",
   "execution_count": 155,
   "metadata": {
    "deletable": false,
    "nbgrader": {
     "checksum": "9f7a7938e43b14d3c7c49d6a278b0bb1",
     "grade": true,
     "grade_id": "cell-5d017805206f18b1",
     "locked": false,
     "points": 0,
     "schema_version": 1,
     "solution": true
    }
   },
   "outputs": [
    {
     "name": "stdout",
     "output_type": "stream",
     "text": [
      "(1125659, 18)\n"
     ]
    }
   ],
   "source": [
    "# 1a YOUR CODE HERE\n",
    "\n",
    "shape = contrib.shape\n",
    "print(shape)"
   ]
  },
  {
   "cell_type": "markdown",
   "metadata": {},
   "source": [
    "- **1a answer here:** \n",
    "\n",
    "# Yes. This matches with expectation that there is about 1 million count of contributions in election as a ball park sanity check."
   ]
  },
  {
   "cell_type": "markdown",
   "metadata": {
    "deletable": false,
    "nbgrader": {
     "checksum": "e6a198453ec4b0171a064fef0bd7c678",
     "grade": true,
     "grade_id": "cell-3bc26919169bf4aa",
     "locked": false,
     "points": 5,
     "schema_version": 1,
     "solution": true
    }
   },
   "source": [
    "**1b.** Print a list of column names. Are all the columns included that are in the documentation? (2 points)"
   ]
  },
  {
   "cell_type": "code",
   "execution_count": 156,
   "metadata": {
    "deletable": false,
    "nbgrader": {
     "checksum": "4fbf682f1c78b3614832c6f48ecd88c7",
     "grade": true,
     "grade_id": "cell-72bc97601b84f17d",
     "locked": false,
     "points": 5,
     "schema_version": 1,
     "solution": true
    }
   },
   "outputs": [
    {
     "name": "stdout",
     "output_type": "stream",
     "text": [
      "Index(['cmte_id', 'cand_id', 'cand_nm', 'contbr_nm', 'contbr_city',\n",
      "       'contbr_st', 'contbr_zip', 'contbr_employer', 'contbr_occupation',\n",
      "       'contb_receipt_amt', 'contb_receipt_dt', 'receipt_desc', 'memo_cd',\n",
      "       'memo_text', 'form_tp', 'file_num', 'tran_id', 'election_tp'],\n",
      "      dtype='object')\n"
     ]
    }
   ],
   "source": [
    "# 1b YOUR CODE HERE\n",
    "print(contrib.columns)"
   ]
  },
  {
   "cell_type": "markdown",
   "metadata": {},
   "source": [
    "- **1b answer here:** \n",
    "\n",
    "# Yes. The columns are included in the documentation."
   ]
  },
  {
   "cell_type": "markdown",
   "metadata": {},
   "source": [
    "**1c** Print out the first five rows of the dataset. How do the columns `cand_id`, `cand_nm` and `contbr_st` look? (3 points)"
   ]
  },
  {
   "cell_type": "code",
   "execution_count": 157,
   "metadata": {},
   "outputs": [
    {
     "name": "stdout",
     "output_type": "stream",
     "text": [
      "     cand_id                  cand_nm contbr_st\n",
      "0  P00003392  Clinton, Hillary Rodham        CA\n",
      "1  P00003392  Clinton, Hillary Rodham        CA\n",
      "2  P00003392  Clinton, Hillary Rodham        CA\n",
      "3  P60007168         Sanders, Bernard        CA\n",
      "4  P60007168         Sanders, Bernard        CA\n"
     ]
    }
   ],
   "source": [
    "# 1c YOUR CODE HERE\n",
    "\n",
    "first_five_rows = contrib.head(5)\n",
    "print(first_five_rows[['cand_id','cand_nm','contbr_st']])"
   ]
  },
  {
   "cell_type": "markdown",
   "metadata": {},
   "source": [
    "- **1c answer here:** \n",
    "\n",
    "# The 3 columns look credible with candiate id, candidate name, and state of contributor."
   ]
  },
  {
   "cell_type": "markdown",
   "metadata": {
    "deletable": false,
    "nbgrader": {
     "checksum": "0ec29a2cabd52709322d1cfd650babe7",
     "grade": true,
     "grade_id": "cell-23b51536d24c1645",
     "locked": false,
     "points": 0,
     "schema_version": 1,
     "solution": true
    }
   },
   "source": [
    "**1d.** Print out the values for the column `election_tp`. In your own words, based on the documentation, what information does the `election_tp` variable contain? Do the values in the column match the documentation? (3 points)"
   ]
  },
  {
   "cell_type": "code",
   "execution_count": 158,
   "metadata": {},
   "outputs": [
    {
     "name": "stdout",
     "output_type": "stream",
     "text": [
      "['P2016' 'G2016' nan 'P2020']\n"
     ]
    }
   ],
   "source": [
    "# 1d YOUR CODE HERE\n",
    "types = contrib['election_tp'].unique()\n",
    "print(types)"
   ]
  },
  {
   "cell_type": "markdown",
   "metadata": {
    "deletable": false,
    "nbgrader": {
     "checksum": "cfa64002e64474584dc1442b5a39b460",
     "grade": true,
     "grade_id": "cell-8a320c2ff7c24d98",
     "locked": false,
     "points": 0,
     "schema_version": 1,
     "solution": true
    }
   },
   "source": [
    "- **1d answer here:** \n",
    "\n",
    "# The election_tp column labels which election the contribution goes toward. P or G as the first character to denote primary or general election. The following 4 characters in numbers contains the year of election."
   ]
  },
  {
   "cell_type": "markdown",
   "metadata": {
    "deletable": false,
    "nbgrader": {
     "checksum": "442b24601da06376c43cbe6ef5c5348a",
     "grade": true,
     "grade_id": "cell-6a453219105384dd",
     "locked": false,
     "points": 0,
     "schema_version": 1,
     "solution": true
    }
   },
   "source": [
    "**1e.** Print out the datatypes for all of the columns. What are the datatypes for the `contbr_zip`, `contb_receipt_amt`, `contb_receipt_dt`? (5 points)"
   ]
  },
  {
   "cell_type": "code",
   "execution_count": 159,
   "metadata": {
    "deletable": false,
    "nbgrader": {
     "checksum": "c5a1b7f30648cced7269ccb9b1532bd6",
     "grade": true,
     "grade_id": "cell-90c49bd6471a3dc9",
     "locked": false,
     "points": 0,
     "schema_version": 1,
     "solution": true
    }
   },
   "outputs": [
    {
     "name": "stdout",
     "output_type": "stream",
     "text": [
      "Data types for all columns:\n",
      "cmte_id                      object\n",
      "cand_id                      object\n",
      "cand_nm                      object\n",
      "contbr_nm                    object\n",
      "contbr_city                  object\n",
      "contbr_st                    object\n",
      "contbr_zip                   object\n",
      "contbr_employer              object\n",
      "contbr_occupation            object\n",
      "contb_receipt_amt           float64\n",
      "contb_receipt_dt     datetime64[ns]\n",
      "receipt_desc                 object\n",
      "memo_cd                      object\n",
      "memo_text                    object\n",
      "form_tp                      object\n",
      "file_num                      int64\n",
      "tran_id                      object\n",
      "election_tp                  object\n",
      "dtype: object\n",
      "\n",
      "Data type of 'contbr_zip' column: object\n",
      "Data type of 'contb_receipt_amt' column: float64\n",
      "Data type of 'contb_receipt_dt' column: datetime64[ns]\n"
     ]
    }
   ],
   "source": [
    "# 1e YOUR CODE HERE\n",
    "data_types = contrib.dtypes\n",
    "print(\"Data types for all columns:\")\n",
    "print(contrib.dtypes)\n",
    "\n",
    "contbr_zip_data_type = data_types['contbr_zip']\n",
    "contb_receipt_amt_data_type = data_types['contb_receipt_amt']\n",
    "contb_receipt_dt_data_type = data_types['contb_receipt_dt']\n",
    "\n",
    "print(\"\\nData type of 'contbr_zip' column:\", contbr_zip_data_type)\n",
    "print(\"Data type of 'contb_receipt_amt' column:\", contb_receipt_amt_data_type)\n",
    "print(\"Data type of 'contb_receipt_dt' column:\", contb_receipt_dt_data_type)\n"
   ]
  },
  {
   "cell_type": "markdown",
   "metadata": {
    "deletable": false,
    "nbgrader": {
     "checksum": "60d3e303837e9603de5b96e32af7d806",
     "grade": true,
     "grade_id": "cell-447dc63eff8ebc5f",
     "locked": false,
     "points": 0,
     "schema_version": 1,
     "solution": true
    }
   },
   "source": [
    "- **1e answer here:** \n",
    "\n",
    "# Data type of 'contbr_zip' column: object\n",
    "# Data type of 'contb_receipt_amt' column: float64\n",
    "# Data type of 'contb_receipt_dt' column: datetime64[ns]"
   ]
  },
  {
   "cell_type": "markdown",
   "metadata": {
    "collapsed": true,
    "deletable": false,
    "nbgrader": {
     "checksum": "20a71229316bf24a2ce62c52f72d8142",
     "grade": true,
     "grade_id": "cell-963603c5ed346a99",
     "locked": false,
     "points": 0,
     "schema_version": 1,
     "solution": true
    }
   },
   "source": [
    "**1f.** What columns have the most non-nulls?  Would you recommend to drop any columns based on the number of nulls? (5 points)"
   ]
  },
  {
   "cell_type": "code",
   "execution_count": 160,
   "metadata": {
    "deletable": false,
    "nbgrader": {
     "checksum": "426b589a9d6457f38381eb1c77678d4f",
     "grade": true,
     "grade_id": "cell-b6fc3f7c906c95a2",
     "locked": false,
     "points": 0,
     "schema_version": 1,
     "solution": true
    }
   },
   "outputs": [
    {
     "name": "stdout",
     "output_type": "stream",
     "text": [
      "Columns with the most non-null values:\n",
      "cmte_id              1125659\n",
      "cand_id              1125659\n",
      "tran_id              1125659\n",
      "file_num             1125659\n",
      "form_tp              1125659\n",
      "contb_receipt_dt     1125659\n",
      "contb_receipt_amt    1125659\n",
      "contbr_st            1125659\n",
      "contbr_nm            1125659\n",
      "cand_nm              1125659\n",
      "contbr_city          1125633\n",
      "contbr_zip           1125564\n",
      "election_tp          1124234\n",
      "contbr_occupation    1115260\n",
      "contbr_employer       967757\n",
      "memo_text             501148\n",
      "memo_cd               144268\n",
      "receipt_desc           15045\n",
      "dtype: int64\n",
      "I recommend to drop the following: contbr_employer, memo_text, memo_cd, receipt_desc. Because the data is incomplete and optional for analysis of transactions.\n"
     ]
    }
   ],
   "source": [
    "# 1f YOUR CODE HERE\n",
    "\n",
    "non_null_values = contrib.count()\n",
    "sorted_by_non_nulls = non_null_values.sort_values(ascending=False)\n",
    "\n",
    "# Print the columns with the most non-null values\n",
    "print(\"Columns with the most non-null values:\")\n",
    "print(sorted_by_non_nulls)\n",
    "\n",
    "print(\"I recommend to drop the following: contbr_employer, memo_text, memo_cd, receipt_desc. Because the data is incomplete and optional for analysis of transactions.\")\n"
   ]
  },
  {
   "cell_type": "markdown",
   "metadata": {
    "collapsed": true,
    "deletable": false,
    "nbgrader": {
     "checksum": "81ebf2a2f96961b4464f6c35d2143427",
     "grade": true,
     "grade_id": "cell-bea2cf7a6fff8565",
     "locked": false,
     "points": 0,
     "schema_version": 1,
     "solution": true
    }
   },
   "source": [
    "- **1f answer here:** \n",
    "\n",
    "# cmte_id, cand_id, tran_id, file_num, form_tp, contb_receipt_dt, contb_receipt_amt, contbr_st, contbr_nm, cand_nm contains the most non-null values.\n",
    "\n",
    "# I recommend to drop the following: contbr_employer, memo_text, memo_cd, receipt_desc based on less non-null values. Because the data is incomplete and optional for analysis of transactions."
   ]
  },
  {
   "cell_type": "markdown",
   "metadata": {},
   "source": [
    "**1g.** A column we know that we want to use is the cand_nm column.  From the documentation each candidate is a unique candidate id also. Check data quality of `cand_id` column to see if it matches `cand_nm` column. Specifically check to ensure our targetted candidate 'Bernard Sanders' always has the same cand_id throughout. Any issues with `cand_nm` matching `cand_id`? (5 points)"
   ]
  },
  {
   "cell_type": "code",
   "execution_count": 161,
   "metadata": {},
   "outputs": [
    {
     "name": "stdout",
     "output_type": "stream",
     "text": [
      "Unique combinations of 'cand_id' and 'cand_nm':\n",
      "          cand_id                    cand_nm\n",
      "0       P00003392    Clinton, Hillary Rodham\n",
      "3       P60007168           Sanders, Bernard\n",
      "10      P60006111  Cruz, Rafael Edward 'Ted'\n",
      "8884    P60006046              Walker, Scott\n",
      "8899    P60008059                  Bush, Jeb\n",
      "9745    P60006723               Rubio, Marco\n",
      "10957   P60003670            Kasich, John R.\n",
      "11528   P60008521   Christie, Christopher J.\n",
      "14682   P20002671              Johnson, Gary\n",
      "15680   P80001571           Trump, Donald J.\n",
      "21565   P40003576                 Paul, Rand\n",
      "26202   P60008885      Webb, James Henry Jr.\n",
      "37395   P60005915        Carson, Benjamin S.\n",
      "42451   P60007242             Fiorina, Carly\n",
      "42540   P20002721       Santorum, Richard J.\n",
      "42610   P60008398              Jindal, Bobby\n",
      "128284  P80003478             Huckabee, Mike\n",
      "129089  P60009685           Lessig, Lawrence\n",
      "136834  P60007671    O'Malley, Martin Joseph\n",
      "137846  P60007697         Graham, Lindsey O.\n",
      "142500  P60007572          Pataki, George E.\n",
      "160463  P20003984                Stein, Jill\n",
      "216026  P60022654             McMullin, Evan\n",
      "483198  P20003281     Perry, James R. (Rick)\n",
      "834534  P80003379       Gilmore, James S III\n",
      "Unique combinations of 'cand_id' and 'cand_nm' containing 'Sanders':\n",
      "     cand_id           cand_nm\n",
      "3  P60007168  Sanders, Bernard\n",
      "\n",
      "Yes. Sanders always have cand_id: P60007168\n"
     ]
    }
   ],
   "source": [
    "# 1g YOUR CODE HERE\n",
    "cand_id_and_nm = contrib[['cand_id', 'cand_nm']]\n",
    "unique_combinations = cand_id_and_nm.drop_duplicates()\n",
    "print(\"Unique combinations of 'cand_id' and 'cand_nm':\")\n",
    "print(unique_combinations)\n",
    "\n",
    "sanders_combinations = unique_combinations[unique_combinations['cand_nm'].str.contains('Sanders')]\n",
    "print(\"Unique combinations of 'cand_id' and 'cand_nm' containing 'Sanders':\")\n",
    "print(sanders_combinations)\n",
    "\n",
    "print('\\nYes. Sanders always have cand_id: P60007168')"
   ]
  },
  {
   "cell_type": "markdown",
   "metadata": {},
   "source": [
    "- **1g answer here:** \n",
    "\n",
    "# Yes. Sanders always have cand_id: P60007168. This is verified with unique combination of candidate ids with candidate names."
   ]
  },
  {
   "cell_type": "markdown",
   "metadata": {},
   "source": [
    "**1h.** Another area to check is to make sure all of the records are from California. Check the `contbr_st` column - are there any records outside of California based on `contbr_st`? (5 points)"
   ]
  },
  {
   "cell_type": "code",
   "execution_count": 162,
   "metadata": {},
   "outputs": [
    {
     "name": "stdout",
     "output_type": "stream",
     "text": [
      "Unique states in the 'contbr_st' column:\n",
      "['CA']\n",
      "\n",
      "No records outsie of california\n"
     ]
    }
   ],
   "source": [
    "# 1h YOUR CODE HERE\n",
    "\n",
    "unique_states = contrib['contbr_st'].unique()\n",
    "print(\"Unique states in the 'contbr_st' column:\")\n",
    "print(unique_states)\n",
    "\n",
    "print('\\nNo records outsie of california')"
   ]
  },
  {
   "cell_type": "markdown",
   "metadata": {},
   "source": [
    "- **1h answer here:** \n",
    "\n",
    "# No. There are no records outside of california based on contbr_st."
   ]
  },
  {
   "cell_type": "markdown",
   "metadata": {},
   "source": [
    "**1i.** The next column to check for the analysis is the `tran_id` column. This column could be the primary key so look for duplicates. How many duplicate entries are there? Any pattern for why are there duplicate entries? (5 points)"
   ]
  },
  {
   "cell_type": "code",
   "execution_count": 163,
   "metadata": {},
   "outputs": [
    {
     "name": "stdout",
     "output_type": "stream",
     "text": [
      "Number of duplicate entries in the 'tran_id' column: 6873\n",
      "\n",
      "Pattern of duplicate entries:\n",
      "               tran_id\n",
      "57            C3913687\n",
      "90            C3925472\n",
      "91            C3937968\n",
      "174      SA17A.1645838\n",
      "175      SA17A.1627230\n",
      "...                ...\n",
      "1125589   SA17.1121072\n",
      "1125596   SA17.1112655\n",
      "1125597   SA17.1126164\n",
      "1125598   SA17.1137886\n",
      "1125614   SA17.1153096\n",
      "\n",
      "[6873 rows x 1 columns]\n",
      "          cmte_id    cand_id                  cand_nm        contbr_nm  \\\n",
      "57      C00575795  P00003392  Clinton, Hillary Rodham  SANMUKH, BHAKTA   \n",
      "430986  C00575795  P00003392  Clinton, Hillary Rodham  BHAKTA, SANMUKH   \n",
      "\n",
      "       contbr_city contbr_st     contbr_zip        contbr_employer  \\\n",
      "57       SAN DIMAS        CA 917,733,736.00                    NaN   \n",
      "430986   SAN DIMAS        CA 917,733,736.00  INFORMATION REQUESTED   \n",
      "\n",
      "            contbr_occupation  contb_receipt_amt contb_receipt_dt  \\\n",
      "57                    RETIRED             151.00       2016-03-31   \n",
      "430986  INFORMATION REQUESTED             151.00       2016-03-18   \n",
      "\n",
      "       receipt_desc memo_cd               memo_text form_tp  file_num  \\\n",
      "57              NaN       X    *BEST EFFORTS UPDATE   SA17A   1091718   \n",
      "430986          NaN       X  * HILLARY VICTORY FUND    SA18   1081062   \n",
      "\n",
      "         tran_id election_tp  \n",
      "57      C3913687       P2016  \n",
      "430986  C3913687       P2016  \n",
      "The transactions are duplicated with switched first name and last name\n"
     ]
    }
   ],
   "source": [
    "# 1i YOUR CODE HERE\n",
    "duplicate_tran_ids = contrib[contrib.duplicated(subset='tran_id', keep=False)]\n",
    "\n",
    "# Count the number of duplicate entries\n",
    "num_duplicates = len(duplicate_tran_ids)\n",
    "\n",
    "print(\"Number of duplicate entries in the 'tran_id' column:\", num_duplicates)\n",
    "\n",
    "# Check if there is a pattern for why there are duplicate entries\n",
    "if num_duplicates > 0:\n",
    "    print(\"\\nPattern of duplicate entries:\")\n",
    "    print(duplicate_tran_ids[['tran_id']])\n",
    "    print(duplicate_tran_ids[duplicate_tran_ids['tran_id'] == 'C3913687'])\n",
    "\n",
    "print(\"The transactions are duplicated with switched first name and last name\")"
   ]
  },
  {
   "cell_type": "markdown",
   "metadata": {},
   "source": [
    "- **1i answer here:** \n",
    "\n",
    "# There are 6873 duplicate entries.\n",
    "# The duplicate entries are driven by duplicate names from the same contributors."
   ]
  },
  {
   "cell_type": "markdown",
   "metadata": {},
   "source": [
    "**1j.** Another column to check is the `contb_receipt_amt` that shows the donation amounts. How many negative donations are included? What do negative donations mean? Please show at least pull a few rows to look at the records with negative donations. Do these records match with the expectation of why a negative donation would happen? (5 points)"
   ]
  },
  {
   "cell_type": "code",
   "execution_count": 164,
   "metadata": {},
   "outputs": [
    {
     "name": "stdout",
     "output_type": "stream",
     "text": [
      "           cmte_id    cand_id                    cand_nm  \\\n",
      "19       C00574624  P60006111  Cruz, Rafael Edward 'Ted'   \n",
      "23       C00574624  P60006111  Cruz, Rafael Edward 'Ted'   \n",
      "81       C00574624  P60006111  Cruz, Rafael Edward 'Ted'   \n",
      "190      C00574624  P60006111  Cruz, Rafael Edward 'Ted'   \n",
      "213      C00574624  P60006111  Cruz, Rafael Edward 'Ted'   \n",
      "...            ...        ...                        ...   \n",
      "1125008  C00574624  P60006111  Cruz, Rafael Edward 'Ted'   \n",
      "1125317  C00580399  P60008521   Christie, Christopher J.   \n",
      "1125427  C00574624  P60006111  Cruz, Rafael Edward 'Ted'   \n",
      "1125446  C00573519  P60005915        Carson, Benjamin S.   \n",
      "1125582  C00574624  P60006111  Cruz, Rafael Edward 'Ted'   \n",
      "\n",
      "                    contbr_nm             contbr_city contbr_st  \\\n",
      "19           JOLLIFF, RICHARD                   CHICO        CA   \n",
      "23           JOLLIFF, RICHARD                   CHICO        CA   \n",
      "81           JOLLIFF, RICHARD                   CHICO        CA   \n",
      "190          NOWELL, DIANA L.  RANCHO SANTA MARGARITA        CA   \n",
      "213        LICHTY, ANDREW MR.               SAN DIEGO        CA   \n",
      "...                       ...                     ...       ...   \n",
      "1125008  NELSON, PETER C. MR.         SAN LUIS OBISPO        CA   \n",
      "1125317       ASCHER, STEPHEN                PASADENA        CA   \n",
      "1125427       HANSEN, WILLIAM                GLENDALE        CA   \n",
      "1125446        PECK, JOHN JR.         RANCHO SANTA FE        CA   \n",
      "1125582        FARRELL, PETER                LA JOLLA        CA   \n",
      "\n",
      "            contbr_zip                     contbr_employer  \\\n",
      "19      959,289,507.00                       SELF EMPLOYED   \n",
      "23      959,289,507.00                       SELF EMPLOYED   \n",
      "81      959,289,507.00                       SELF EMPLOYED   \n",
      "190     926,884,928.00  CAPISTRAND UNIFIED SCHOOL DISTRICT   \n",
      "213     921,096,720.00                       SELF EMPLOYED   \n",
      "...                ...                                 ...   \n",
      "1125008      934018000                       SELF EMPLOYED   \n",
      "1125317      911013113                             MIRAMAR   \n",
      "1125427      912081507                             RETIRED   \n",
      "1125446      920670829                    PECK ENTERPRISES   \n",
      "1125582      920375633                              RESMED   \n",
      "\n",
      "            contbr_occupation  contb_receipt_amt contb_receipt_dt  \\\n",
      "19                    RANCHER             -25.00       2016-04-29   \n",
      "23                    RANCHER            -150.00       2016-04-29   \n",
      "81                    RANCHER             -60.00       2016-04-14   \n",
      "190      LIBRARIAN TECHNICIAN            -100.00       2016-04-11   \n",
      "213               REAL ESTATE             -25.00       2016-04-30   \n",
      "...                       ...                ...              ...   \n",
      "1125008               DENTIST          -2,700.00       2015-07-31   \n",
      "1125317             EXECUTIVE          -2,700.00       2016-01-30   \n",
      "1125427               RETIRED          -5,400.00       2015-07-01   \n",
      "1125446             PRESIDENT          -2,700.00       2016-01-01   \n",
      "1125582              CHAIRMAN          -2,700.00       2015-08-28   \n",
      "\n",
      "                     receipt_desc memo_cd                 memo_text form_tp  \\\n",
      "19       REDESIGNATION TO GENERAL       X  REDESIGNATION TO GENERAL   SA17A   \n",
      "23       REDESIGNATION TO GENERAL       X  REDESIGNATION TO GENERAL   SA17A   \n",
      "81       REDESIGNATION TO GENERAL       X  REDESIGNATION TO GENERAL   SA17A   \n",
      "190      REDESIGNATION TO GENERAL       X  REDESIGNATION TO GENERAL   SA17A   \n",
      "213      REDESIGNATION TO GENERAL       X  REDESIGNATION TO GENERAL   SA17A   \n",
      "...                           ...     ...                       ...     ...   \n",
      "1125008  REDESIGNATION TO GENERAL       X  REDESIGNATION TO GENERAL   SA17A   \n",
      "1125317   REATTRIBUTION TO SPOUSE       X   REATTRIBUTION TO SPOUSE   SA17A   \n",
      "1125427                       NaN     NaN              CHARGED BACK   SA17A   \n",
      "1125446  REDESIGNATION TO GENERAL       X  REDESIGNATION TO GENERAL   SA17A   \n",
      "1125582  REDESIGNATION TO GENERAL       X  REDESIGNATION TO GENERAL   SA17A   \n",
      "\n",
      "         file_num         tran_id election_tp  \n",
      "19        1077664  SA17A.1826482B       P2016  \n",
      "23        1077664  SA17A.1826483B       P2016  \n",
      "81        1077664   SA17A.1827494       P2016  \n",
      "190       1077664  SA17A.1639830B       P2016  \n",
      "213       1077664  SA17A.1826888B       P2016  \n",
      "...           ...             ...         ...  \n",
      "1125008   1053893    SA17.466666B       P2016  \n",
      "1125317   1051204     SA17.A40065       P2016  \n",
      "1125427   1053893     SA17.440961       P2016  \n",
      "1125446   1073637    SA17.817713B       P2016  \n",
      "1125582   1053893    SA17.348532B       P2016  \n",
      "\n",
      "[11896 rows x 18 columns]\n",
      "The records with negative donation matches with expectation of adjustments needed. For example with note REDESIGNATION TO GENERAL.\n"
     ]
    }
   ],
   "source": [
    "# 1j YOUR CODE HERE\n",
    "\n",
    "\n",
    "negative_donations = contrib[contrib['contb_receipt_amt'] < 0]\n",
    "\n",
    "print(negative_donations)\n",
    "\n",
    "print(\"The records with negative donation matches with expectation of adjustments needed. For example with note REDESIGNATION TO GENERAL.\")"
   ]
  },
  {
   "cell_type": "markdown",
   "metadata": {},
   "source": [
    "- **1j answer here:**\n",
    "\n",
    "# The records with negative donation matches with expectation of adjustments needed.\n",
    "# For example with note REDESIGNATION TO GENERAL."
   ]
  },
  {
   "cell_type": "markdown",
   "metadata": {},
   "source": [
    "**1k.** One more column to look at is the date of donation column. Are there any dates outside of the primary period (defined as 1 Jan 2014 to 7 June 2016)? Are the dates well-formatted for our analysis? (5 points)"
   ]
  },
  {
   "cell_type": "code",
   "execution_count": 165,
   "metadata": {},
   "outputs": [
    {
     "data": {
      "image/png": "[encoded data removed]",
      "text/plain": [
       "<Figure size 1200x600 with 1 Axes>"
      ]
     },
     "metadata": {},
     "output_type": "display_data"
    },
    {
     "name": "stdout",
     "output_type": "stream",
     "text": [
      "Minimum Date: 2013-11-05 00:00:00\n",
      "Maximum Date: 2016-10-19 00:00:00\n",
      "Yes. there are dates outside of the range, from 2013-11-05 to 2016-10-19\n",
      "(1125659, 18)\n"
     ]
    }
   ],
   "source": [
    "# 1k YOUR CODE HERE\n",
    "import matplotlib.pyplot as plt\n",
    "\n",
    "contrib['contb_receipt_dt'] = pd.to_datetime(contrib['contb_receipt_dt'], errors='coerce')\n",
    "date_counts = contrib.groupby('contb_receipt_dt').size()\n",
    "plt.figure(figsize=(12, 6))\n",
    "date_counts.plot(kind='bar', color='skyblue')\n",
    "plt.title('Count of Records per Date (All Dates)')\n",
    "plt.xlabel('Date')\n",
    "plt.ylabel('Count')\n",
    "plt.xticks(rotation=45)\n",
    "plt.tight_layout()\n",
    "plt.show()\n",
    "\n",
    "min_date = contrib['contb_receipt_dt'].min()\n",
    "max_date = contrib['contb_receipt_dt'].max()\n",
    "\n",
    "print(\"Minimum Date:\", min_date)\n",
    "print(\"Maximum Date:\", max_date)\n",
    "\n",
    "# primary period (defined as 1 Jan 2014 to 7 June 2016\n",
    "\n",
    "print(\"Yes. there are dates outside of the range, from 2013-11-05 to 2016-10-19\")\n",
    "print(contrib.shape)"
   ]
  },
  {
   "cell_type": "markdown",
   "metadata": {},
   "source": [
    "- **1k answer here:**\n",
    "\n",
    "# Minimum Date: 2013-11-05 00:00:00\n",
    "# Maximum Date: 2016-10-19 00:00:00\n",
    "# Yes. there are dates outside of the range, from 2013-11-05 to 2016-10-19."
   ]
  },
  {
   "cell_type": "markdown",
   "metadata": {
    "collapsed": true,
    "deletable": false,
    "nbgrader": {
     "checksum": "bffd2778d22127102347386bfb6f5b20",
     "grade": true,
     "grade_id": "cell-4ad1da24176f0450",
     "locked": false,
     "points": 0,
     "schema_version": 1,
     "solution": true
    }
   },
   "source": [
    "**1l.** Finally, answer the initial questions in the cells below (5 points)"
   ]
  },
  {
   "cell_type": "markdown",
   "metadata": {},
   "source": [
    "**1l.1** Do we have the correct # of columns and rows.\n",
    "\n",
    "- **1l.1 answer here:**\n",
    "\n",
    "# Yes. We have 21432 rows x 20 columns."
   ]
  },
  {
   "cell_type": "markdown",
   "metadata": {},
   "source": [
    "**1l.2** Do the records contain data for the questions we want to answer?\n",
    "\n",
    "- **1l.2 answer here:**\n",
    "\n",
    "# Yes. The records contain data for questions we want to answer, because it contains data to associate contributor, their zipcode, with candidate."
   ]
  },
  {
   "cell_type": "markdown",
   "metadata": {},
   "source": [
    "**1l.3** What columns are important?\n",
    "\n",
    "- **1l.3 answer here:** \n",
    "\n",
    "# Referencing questions:\n",
    "# - Which zipcode (5-digit zipcode) had the highest count of contributions and the most dollar amount?\n",
    "# - What day(s) of the month do most people donate?\n",
    "\n",
    "# CAND_NM, # CONTBR_NM, # CONTBR_ZIP, CONTB_RECEIPT_DT are important to answer the questions."
   ]
  },
  {
   "cell_type": "markdown",
   "metadata": {},
   "source": [
    "**1l.4** What columns can be dropped?\n",
    "\n",
    "- **1l.4 answer here:** \n",
    "\n",
    "# The other columns can be droped after filtering."
   ]
  },
  {
   "cell_type": "markdown",
   "metadata": {},
   "source": [
    "**1l.5** What are the data problems?\n",
    "\n",
    "- **1l.5 answer here:**\n",
    "\n",
    "# Problems include:\n",
    "# There are duplicate entries that we need to filter out.\n",
    "# There is no full clarify on the negative contribution amount."
   ]
  },
  {
   "cell_type": "markdown",
   "metadata": {},
   "source": [
    "**1l.6** List anys so far:\n",
    "\n",
    "- **1l.6 answer here:**\n",
    "\n",
    "# Assumptions include:\n",
    "# Duplicate entries can be resolved with above initial analysis.\n",
    "# Negative contribution amount can be resolved with above initial analysis."
   ]
  },
  {
   "cell_type": "markdown",
   "metadata": {
    "collapsed": true,
    "deletable": false,
    "nbgrader": {
     "checksum": "14c2855e3d59f0da6b1afd5cf0da2da8",
     "grade": true,
     "grade_id": "cell-fd840cdd19d2bd2a",
     "locked": false,
     "points": 0,
     "schema_version": 1,
     "solution": true
    }
   },
   "source": [
    "***\n",
    "## 2. Data filtering and data quality fixes (30 points)\n",
    "\n",
    "Now that we have a basic understanding of the data, let's filter out the records we don't need and fix the data."
   ]
  },
  {
   "cell_type": "markdown",
   "metadata": {},
   "source": [
    "**2a.** From the dataset filter out (remove) any election_tp not in the primary election. Print/show the shape of the dataframe after the filtering is complete. (5 points)"
   ]
  },
  {
   "cell_type": "code",
   "execution_count": 166,
   "metadata": {
    "deletable": false,
    "nbgrader": {
     "checksum": "43ce3d15cee7ab73f53fd8f054c9826c",
     "grade": true,
     "grade_id": "cell-dce8d3107c1463ca",
     "locked": false,
     "points": 0,
     "schema_version": 1,
     "solution": true
    }
   },
   "outputs": [
    {
     "name": "stdout",
     "output_type": "stream",
     "text": [
      "Shape of DataFrame after filtering for primary election:\n",
      "(810481, 18)\n"
     ]
    }
   ],
   "source": [
    "# 2a YOUR CODE HERE\n",
    "contrib = contrib[contrib['election_tp'] == 'P2016']\n",
    "\n",
    "# Print/show the shape of the filtered DataFrame\n",
    "print(\"Shape of DataFrame after filtering for primary election:\")\n",
    "print(contrib.shape)"
   ]
  },
  {
   "cell_type": "markdown",
   "metadata": {
    "deletable": false,
    "nbgrader": {
     "checksum": "a5f4e6df0f32e24c492a9589ec87fef6",
     "grade": true,
     "grade_id": "cell-9e3f68b21dac8e10",
     "locked": false,
     "points": 0,
     "schema_version": 1,
     "solution": true
    }
   },
   "source": [
    "**2b.** From the dataset filter out (remove) any candidate that is not Bernie Sanders. Print/show the shape of the dataframe after the filtering is complete. (5 points)"
   ]
  },
  {
   "cell_type": "code",
   "execution_count": 167,
   "metadata": {
    "deletable": false,
    "nbgrader": {
     "checksum": "4f1a9e7ee0ded9d2b5af5777cb85e505",
     "grade": true,
     "grade_id": "cell-c14fbed9d72d54e3",
     "locked": false,
     "points": 0,
     "schema_version": 1,
     "solution": true
    }
   },
   "outputs": [
    {
     "name": "stdout",
     "output_type": "stream",
     "text": [
      "Shape of DataFrame after filtering for Bernie Sanders:\n",
      "(407171, 18)\n"
     ]
    }
   ],
   "source": [
    "# 2b YOUR CODE HERE\n",
    "contrib = contrib[contrib['cand_nm'] == 'Sanders, Bernard']\n",
    "\n",
    "# Print/show the shape of the filtered DataFrame\n",
    "print(\"Shape of DataFrame after filtering for Bernie Sanders:\")\n",
    "print(contrib.shape)"
   ]
  },
  {
   "cell_type": "markdown",
   "metadata": {},
   "source": [
    "**2c.** The `contbr_zip` column is not formatted well for our analysis. Make a new zipcode column that is the five-digit zipcodes. Filter out any records outside of California based on the zipcode. Print/show the shape of the dataframe after the filtering is complete. (10 points).\n",
    "\n",
    "- You will have to research what the valid 5-digit zipcodes for California are!"
   ]
  },
  {
   "cell_type": "code",
   "execution_count": 168,
   "metadata": {},
   "outputs": [
    {
     "name": "stdout",
     "output_type": "stream",
     "text": [
      "0    00012\n",
      "1    00016\n",
      "2    00017\n",
      "3    00018\n",
      "4    00019\n",
      "Name: ZIP_CODE, dtype: object\n",
      "Shape of DataFrame after filtering for california zip codes:\n",
      "(21450, 19)\n",
      "Shape of DataFrame after filtering for california zip codes:\n",
      "(21450, 19)\n"
     ]
    }
   ],
   "source": [
    "# 2c YOUR CODE HERE\n",
    "contrib['zipcode'] = contrib['contbr_zip'].str[:5]\n",
    "\n",
    "ca_zipcodes = pd.read_csv('California_Zip_Codes.csv', dtype={'ZIP_CODE': str})['ZIP_CODE']\n",
    "print(ca_zipcodes.head())\n",
    "\n",
    "contrib = contrib[contrib['zipcode'].isin(ca_zipcodes)]\n",
    "contrib2 = contrib[contrib['contbr_st']=='CA']\n",
    "\n",
    "print(\"Shape of DataFrame after filtering for california zip codes:\")\n",
    "print(contrib.shape)\n",
    "\n",
    "print(\"Shape of DataFrame after filtering for california zip codes:\")\n",
    "print(contrib2.shape)\n",
    "\n",
    "# Source: https://gis.data.ca.gov/datasets/CDEGIS::california-zip-codes/explore"
   ]
  },
  {
   "cell_type": "markdown",
   "metadata": {},
   "source": [
    "**2d.** The receipt amount column has negative donations. After talking with your team, a decision was made that the best course of action is to remove these negative values so that the donation count and amount is more accurate. Print/show the shape of the dataframe after the filtering is complete. (5 points)"
   ]
  },
  {
   "cell_type": "code",
   "execution_count": 169,
   "metadata": {},
   "outputs": [
    {
     "name": "stdout",
     "output_type": "stream",
     "text": [
      "Shape of DataFrame after filtering out the negative values:\n",
      "(21432, 19)\n"
     ]
    }
   ],
   "source": [
    "# 2d YOUR CODE HERE\n",
    "contrib = contrib[contrib['contb_receipt_amt'] > 0]\n",
    "\n",
    "print(\"Shape of DataFrame after filtering out the negative values:\")\n",
    "print(contrib.shape)"
   ]
  },
  {
   "cell_type": "markdown",
   "metadata": {},
   "source": [
    "**2e.** From the dataset drop any columns that won't be used in the analysis. Print/show the shape of the dataframe after the dropping is complete. What columns did you drop and why? (5 points)"
   ]
  },
  {
   "cell_type": "code",
   "execution_count": 170,
   "metadata": {},
   "outputs": [
    {
     "name": "stdout",
     "output_type": "stream",
     "text": [
      "Shape of DataFrame after filtering out the duplicate transaction ids:\n",
      "(21432, 19)\n",
      "<bound method NDFrame.head of           cmte_id    cand_id           cand_nm          contbr_nm  \\\n",
      "240572  C00577130  P60007168  Sanders, Bernard       YOUNG, JASON   \n",
      "240575  C00577130  P60007168  Sanders, Bernard        ROMO, SUSAN   \n",
      "240578  C00577130  P60007168  Sanders, Bernard     ROSENBERG, LOU   \n",
      "240579  C00577130  P60007168  Sanders, Bernard  CHITTENDEN, DAVID   \n",
      "240582  C00577130  P60007168  Sanders, Bernard       THOMAS, NEAL   \n",
      "...           ...        ...               ...                ...   \n",
      "819180  C00577130  P60007168  Sanders, Bernard    PHILLIPS, VICKI   \n",
      "819181  C00577130  P60007168  Sanders, Bernard  SCHAFFER, MICHAEL   \n",
      "819182  C00577130  P60007168  Sanders, Bernard   SCIARONI, DANIEL   \n",
      "819187  C00577130  P60007168  Sanders, Bernard  MATTHEWS, ADRIANA   \n",
      "819195  C00577130  P60007168  Sanders, Bernard     DUFFY, CRELLAN   \n",
      "\n",
      "          contbr_city contbr_st contbr_zip          contbr_employer  \\\n",
      "240572        ANAHEIM        CA  928064346       CRESCENT BAY FILMS   \n",
      "240575    LOS ANGELES        CA  900271333    INFORMATION REQUESTED   \n",
      "240578    LOS ANGELES        CA  900654038                     NONE   \n",
      "240579    MILL VALLEY        CA  949411424            SELF EMPLOYED   \n",
      "240582    SIGNAL HILL        CA  907553656                     SELF   \n",
      "...               ...       ...        ...                      ...   \n",
      "819180  CARMEL VALLEY        CA  939249231             NOT EMPLOYED   \n",
      "819181      SAN DIEGO        CA  921311618                     SELF   \n",
      "819182   SHERMAN OAKS        CA  914113730  CULVER CITY URGENT CARE   \n",
      "819187       EL CAJON        CA  920207369                  BRIXTON   \n",
      "819195         NOVATO        CA  949496635            SELF EMPLOYED   \n",
      "\n",
      "                contbr_occupation  contb_receipt_amt contb_receipt_dt  \\\n",
      "240572             VIDEO PRODUCER             100.00       2015-09-19   \n",
      "240575      INFORMATION REQUESTED             232.62       2015-09-21   \n",
      "240578               NOT EMPLOYED              10.00       2015-09-21   \n",
      "240579                       SELF             250.00       2015-09-22   \n",
      "240582         DATABASE MARKETING              10.00       2015-09-12   \n",
      "...                           ...                ...              ...   \n",
      "819180               NOT EMPLOYED              15.00       2016-03-20   \n",
      "819181  CONSULTANT, FUSION ENERGY              50.00       2016-03-19   \n",
      "819182                  PHYSICIAN              15.00       2016-03-18   \n",
      "819187                         PR              14.00       2016-04-30   \n",
      "819195                  ARCHITECT              27.00       2016-03-01   \n",
      "\n",
      "       receipt_desc memo_cd                            memo_text form_tp  \\\n",
      "240572          NaN     NaN  * EARMARKED CONTRIBUTION: SEE BELOW   SA17A   \n",
      "240575          NaN     NaN                                  NaN   SA17A   \n",
      "240578          NaN     NaN  * EARMARKED CONTRIBUTION: SEE BELOW   SA17A   \n",
      "240579          NaN     NaN  * EARMARKED CONTRIBUTION: SEE BELOW   SA17A   \n",
      "240582          NaN     NaN  * EARMARKED CONTRIBUTION: SEE BELOW   SA17A   \n",
      "...             ...     ...                                  ...     ...   \n",
      "819180          NaN     NaN  * EARMARKED CONTRIBUTION: SEE BELOW   SA17A   \n",
      "819181          NaN     NaN  * EARMARKED CONTRIBUTION: SEE BELOW   SA17A   \n",
      "819182          NaN     NaN  * EARMARKED CONTRIBUTION: SEE BELOW   SA17A   \n",
      "819187          NaN     NaN  * EARMARKED CONTRIBUTION: SEE BELOW   SA17A   \n",
      "819195          NaN     NaN  * EARMARKED CONTRIBUTION: SEE BELOW   SA17A   \n",
      "\n",
      "        file_num      tran_id election_tp zipcode  \n",
      "240572   1029414  VPF7BFJ41T1       P2016   92806  \n",
      "240575   1029414  VPF7BFPMK32       P2016   90027  \n",
      "240578   1029414  VPF7BFJGAW3       P2016   90065  \n",
      "240579   1029414  VPF7BFK1452       P2016   94941  \n",
      "240582   1029414  VPF7BFDBBG9       P2016   90755  \n",
      "...          ...          ...         ...     ...  \n",
      "819180   1077404  VPF7BMNPJD4       P2016   93924  \n",
      "819181   1077404  VPF7BMN21E8       P2016   92131  \n",
      "819182   1077404  VPF7BMMV4Q1       P2016   91411  \n",
      "819187   1079445  VPF7BPAHV45       P2016   92020  \n",
      "819195   1077404  VPF7BKS68R6       P2016   94949  \n",
      "\n",
      "[21432 rows x 19 columns]>\n"
     ]
    }
   ],
   "source": [
    "# 2e YOUR CODE HERE\n",
    "\n",
    "contrib = contrib.drop_duplicates(subset='tran_id', keep='first')\n",
    "print(\"Shape of DataFrame after filtering out the duplicate transaction ids:\")\n",
    "print(contrib.shape)\n",
    "\n",
    "print(contrib.head)\n",
    "\n",
    "# cand_nm, zipcode, contb_receipt_amt, contb_receipt_dt are needed. The other columns are dropped because they do not directly help answer the question."
   ]
  },
  {
   "cell_type": "markdown",
   "metadata": {},
   "source": [
    "- **2e answer here:**\n",
    "\n",
    "# cand_nm, zipcode, contb_receipt_amt, contb_receipt_dt are needed because they directly answer the two questions.\n",
    "# The other columns are dropped because they do not directly help answer the question."
   ]
  },
  {
   "cell_type": "markdown",
   "metadata": {},
   "source": [
    "**2f.** List any assumptions that you made up to this point:"
   ]
  },
  {
   "cell_type": "markdown",
   "metadata": {},
   "source": [
    "- **2f answer here:**\n",
    "\n",
    "# Assumptions:\n",
    "# Data are formatted correctly and complete.\n",
    "# 5 digit zip code list is complete and correct.\n",
    "# Remove rows with negative contribution amounts is the correct process, and do not negatively impact the study.\n",
    "# Duplicate entries can be resolved with above initial analysis."
   ]
  },
  {
   "cell_type": "markdown",
   "metadata": {
    "deletable": false,
    "nbgrader": {
     "checksum": "6dc1481a003cdd752c5edfa9ac400879",
     "grade": true,
     "grade_id": "cell-f7a01ce9c5b10ac7",
     "locked": false,
     "points": 0,
     "schema_version": 1,
     "solution": true
    }
   },
   "source": [
    "***\n",
    "## 3. Answering the questions (20 points)\n",
    "\n",
    "Now that the data is cleaned and filterd - let's answer the two questions from your boss!"
   ]
  },
  {
   "cell_type": "markdown",
   "metadata": {
    "deletable": false,
    "nbgrader": {
     "checksum": "010f5de5f6af4c7f830d1cf7a81bbc0f",
     "grade": true,
     "grade_id": "cell-5617179133b06d0c",
     "locked": false,
     "points": 0,
     "schema_version": 1,
     "solution": true
    }
   },
   "source": [
    "**3a.** Which zipcode had the highest count of contributions and the most dollar amount? (10 points)"
   ]
  },
  {
   "cell_type": "code",
   "execution_count": 171,
   "metadata": {},
   "outputs": [
    {
     "name": "stdout",
     "output_type": "stream",
     "text": [
      "Top 5 zipcodes by count of contributions:\n",
      "          count_of_contributions  sum_of_contributions\n",
      "zipcode                                              \n",
      "94110                       258             21,953.46\n",
      "94114                       199             15,879.72\n",
      "94117                       173             16,597.44\n",
      "95060                       145              6,581.26\n",
      "95062                       135              5,929.30\n",
      "\n",
      "Top 5 zipcodes by sum of contributions:\n",
      "          count_of_contributions  sum_of_contributions\n",
      "zipcode                                              \n",
      "94110                       258             21,953.46\n",
      "94117                       173             16,597.44\n",
      "94114                       199             15,879.72\n",
      "94115                        59             13,180.67\n",
      "94122                       111             11,306.04\n"
     ]
    }
   ],
   "source": [
    "# 3a YOUR CODE HERE\n",
    "zipcode_aggregates = contrib.groupby('zipcode').agg(\n",
    "    count_of_contributions=pd.NamedAgg(column='contb_receipt_amt', aggfunc='count'),\n",
    "    sum_of_contributions=pd.NamedAgg(column='contb_receipt_amt', aggfunc='sum')\n",
    ")\n",
    "\n",
    "# Sort by count of contributions and print the top 5\n",
    "top_5_by_count = zipcode_aggregates.sort_values(by='count_of_contributions', ascending=False).head(5)\n",
    "\n",
    "# Sort by sum of contributions and print the top 5\n",
    "top_5_by_sum = zipcode_aggregates.sort_values(by='sum_of_contributions', ascending=False).head(5)\n",
    "\n",
    "# Print the results\n",
    "print(\"Top 5 zipcodes by count of contributions:\\n\", top_5_by_count)\n",
    "print(\"\\nTop 5 zipcodes by sum of contributions:\\n\", top_5_by_sum)"
   ]
  },
  {
   "cell_type": "markdown",
   "metadata": {},
   "source": [
    "- **3a answer here:** \n",
    "# 94110, 94114, 94117, 95060, 95062 have the highest count of contributions.\n",
    "# 94110, 94117, 94114, 94115, 94122 have the highest sum of contributions."
   ]
  },
  {
   "cell_type": "markdown",
   "metadata": {},
   "source": [
    "**3b.** What day(s) of the month do most people donate? (10 points)"
   ]
  },
  {
   "cell_type": "code",
   "execution_count": 172,
   "metadata": {},
   "outputs": [
    {
     "name": "stdout",
     "output_type": "stream",
     "text": [
      "Most popular donation days of the month:\n",
      "\n",
      "              count_of_contributions\n",
      "day_of_month                        \n",
      "9                               2832\n",
      "31                              2762\n",
      "14                              1823\n",
      "27                              1309\n",
      "29                              1044\n",
      "8                                988\n",
      "26                               951\n",
      "25                               891\n",
      "28                               859\n",
      "7                                791\n",
      "1                                784\n",
      "6                                650\n",
      "30                               526\n",
      "13                               518\n",
      "5                                507\n",
      "4                                424\n",
      "23                               410\n",
      "12                               390\n",
      "15                               372\n",
      "11                               341\n",
      "3                                337\n",
      "2                                291\n",
      "18                               250\n",
      "17                               228\n",
      "21                               219\n",
      "16                               211\n",
      "19                               183\n",
      "20                               168\n",
      "22                               142\n",
      "24                               118\n",
      "10                               113\n"
     ]
    }
   ],
   "source": [
    "# 3b YOUR CODE HERE\n",
    "\n",
    "contrib['day_of_month'] = contrib['contb_receipt_dt'].dt.day\n",
    "\n",
    "day_of_month_stats = contrib.groupby('day_of_month').agg(\n",
    "    count_of_contributions=pd.NamedAgg(column='contb_receipt_amt', aggfunc='count')\n",
    ")\n",
    "\n",
    "sorted_day_of_month_stats = day_of_month_stats.sort_values(by='count_of_contributions', ascending=False)\n",
    "print(\"Most popular donation days of the month:\\n\")\n",
    "print(sorted_day_of_month_stats)"
   ]
  },
  {
   "cell_type": "markdown",
   "metadata": {},
   "source": [
    "- **3b answer here:** \n",
    "# The 9th, 31, and 14 are the days of month with the most count of donations."
   ]
  },
  {
   "cell_type": "markdown",
   "metadata": {},
   "source": [
    "## If you have feedback for this homework, please submit it using the link below:\n",
    "\n",
    "http://goo.gl/forms/74yCiQTf6k"
   ]
  }
 ],
 "metadata": {
  "kernelspec": {
   "display_name": "Python 3",
   "language": "python",
   "name": "python3"
  },
  "language_info": {
   "codemirror_mode": {
    "name": "ipython",
    "version": 3
   },
   "file_extension": ".py",
   "mimetype": "text/x-python",
   "name": "python",
   "nbconvert_exporter": "python",
   "pygments_lexer": "ipython3",
   "version": "3.9.6"
  }
 },
 "nbformat": 4,
 "nbformat_minor": 2
}
