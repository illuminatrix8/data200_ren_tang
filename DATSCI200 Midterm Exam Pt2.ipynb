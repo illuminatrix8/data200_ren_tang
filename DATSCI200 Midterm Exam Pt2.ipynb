{
 "cells": [
  {
   "cell_type": "markdown",
   "metadata": {},
   "source": [
    "## MIDTERM - W200 Introduction to Data Science Programming, UC Berkeley MIDS"
   ]
  },
  {
   "cell_type": "markdown",
   "metadata": {},
   "source": [
    "### Midterm Exam Part 2: Programming (60 points)\n",
    "\n",
    "The midterm exam is designed to evaluate your grasp of Python theory as well as Python coding.\n",
    "\n",
    "This part of the exam consists of four programming questions. You have 48 hours to complete both parts (Part 1 and Part 2). Please insert each function into a file named **midterm.py** and upload to gradescope in Part 2. **The code version uploaded to Part 2 will be your official version for grading purposes.**\n",
    "\n",
    "Submit you code in a **midterm.py** file to this part within the 48 window. You can submit as many times as your like inside the window but if you submit over the window, we will take the last submitted entry before the window expired. The visible autograder tests check only that your code is producing the correctly formatted answer. That is, you will only see 20 of the 60 total points visible in the autograder when you submit - the remaining 40 of 60 points are not visible so please make sure your code meets all of the requirements stated in the problem.\n",
    "\n",
    "- **Do not put any additional code besides import statements and the function defs in the midterm.py file**\n",
    "- **Return** the answers instead of printing them in the function!\n",
    "- This is an individual open book exam.\n",
    "- You may use any libraries from the Python Standard Library for this exam: https://docs.python.org/3/library/\n",
    "- Follow best practices while coding!"
   ]
  },
  {
   "cell_type": "markdown",
   "metadata": {},
   "source": [
    "### Problem 1: Tweet Analysis (15 pts)\n",
    "\n",
    "A tweet is a string that is between 1 and 280 characters long (inclusive). A username is a string of letters and/or digits that is between 1 and 14 characters long (inclusive). A username is mentioned in a tweet by including @username in the tweet (notice the username does not include the `@` symbol). A retweet is way to share another user's tweet, and can be identified by the string RT, followed by the original username who tweeted it.\n",
    "\n",
    "Your job is to fill in the function *count_retweets_by_username* so that it **returns** a frequency dictionary that indicates how many times each retweeted username was retweeted."
   ]
  },
  {
   "cell_type": "code",
   "execution_count": 3,
   "metadata": {},
   "outputs": [],
   "source": [
    "tweets = [\"This is great! RT @fakeuser: Can you believe this?\",\n",
    "         \"It's the refs! RT @dubsfan: Boo the refs and stuff wargarbal\",\n",
    "         \"That's right RT @ladodgers: The dodgers are destined to win the west!\",\n",
    "         \"RT @sportball: That sporting event was not cool\",\n",
    "         \"This is just a tweet about things @person, how could you\",\n",
    "         \"RT @ladodgers: The season is looking great!\",\n",
    "         \"RT @dubsfan: I can't believe it!\",\n",
    "         \"I can't believe it either! RT @dubsfan: I can't believe it\"]"
   ]
  },
  {
   "cell_type": "code",
   "execution_count": 8,
   "metadata": {},
   "outputs": [],
   "source": [
    "def count_retweets_by_username(tweet_list):\n",
    "    \"\"\" (list of tweets) -> dict of {username: int}\n",
    "    Returns a dictionary in which each key is a username that was \n",
    "    retweeted in tweet_list and each value is the total number of times this \n",
    "    username was retweeted.\n",
    "    \"\"\"\n",
    "    # initialize a dictionary\n",
    "    retweets_by_username = {}\n",
    "\n",
    "    # filter out retweets\n",
    "    retweets = [tweet for tweet in tweets if 'RT @' in tweet]\n",
    "\n",
    "    # find users from retweets\n",
    "    retweets_usernames = [retweet.split('RT @')[1].split(':')[0] for retweet in retweets]\n",
    "\n",
    "    # add in retweet counts in dictionary\n",
    "    for username in retweets_usernames:\n",
    "        if username not in retweets_by_username:\n",
    "            retweets_by_username[username] = 1\n",
    "        else:\n",
    "            retweets_by_username[username] += 1\n",
    "\n",
    "    return retweets_by_username"
   ]
  },
  {
   "cell_type": "code",
   "execution_count": 9,
   "metadata": {},
   "outputs": [
    {
     "name": "stdout",
     "output_type": "stream",
     "text": [
      "{'fakeuser': 1, 'dubsfan': 3, 'ladodgers': 2, 'sportball': 1}\n"
     ]
    }
   ],
   "source": [
    "# allow this code to work by implementing count_retweets_by_username function above\n",
    "print(count_retweets_by_username(tweets))"
   ]
  },
  {
   "cell_type": "markdown",
   "metadata": {},
   "source": [
    "### Problem 2: Looking for Minerals (30 pts)\n",
    "\n",
    "A mining company conducts a survey of an n-by-n square grid of land.  Each row of land is numbered from 0 to n-1 where 0 is the top and n-1 is the bottom, and each column is also numbered from 0 to n-1 where 0 is the left and n-1 is the right.  The company wishes to record which squares of this grid contain mineral deposits.\n",
    "\n",
    "The company decides to use a list of tuples to store the location of each deposit.  The first item in each tuple is the row of the deposit.  The second item is the column.  The third item is a non-negative number representing the size of the deposit, in tons.  For example, the following code defines a sample representation of a set of deposits in an 8-by-8 grid."
   ]
  },
  {
   "cell_type": "code",
   "execution_count": 12,
   "metadata": {},
   "outputs": [],
   "source": [
    "deposits = [(0, 4, .3), (6, 2, 3), (3, 7, 2.2), (5, 5, .5), (3, 5, .8), (7, 7, .3)]"
   ]
  },
  {
   "cell_type": "markdown",
   "metadata": {},
   "source": [
    "**2a) (15 points)** Given a list of deposits like the one above, write a function to create a string representation for a rectangular sub-region of the land.  Your function should take a list of deposits, then a set of parameters denoting the top, bottom, left, and right edges of the sub-grid.  It should **return** (do not print in the function) a multi-line string in which grid squares without deposits are represented by \"-\" and grid squares with a deposit are represented by \"X\"."
   ]
  },
  {
   "cell_type": "code",
   "execution_count": 78,
   "metadata": {},
   "outputs": [
    {
     "name": "stdout",
     "output_type": "stream",
     "text": [
      "----x---\n",
      "--------\n",
      "--------\n",
      "-----x-x\n",
      "--------\n",
      "-----x--\n",
      "--x-----\n",
      "-------x\n"
     ]
    }
   ],
   "source": [
    "def display(deposits, top, bottom, left, right):\n",
    "    \"\"\"display a subgrid of the land, with rows starting at top and up to \n",
    "    but not including bottom, and columns starting at left and up to but\n",
    "    not including right.\"\"\"\n",
    "    ans = \"\" # delete this line and enter your own code\n",
    "\n",
    "    # each row is numbered from 0 to n-1 where 0 is the top and n-1 is the bottom\n",
    "    # each column is also numbered from 0 to n-1 where 0 is the left and n-1 is the right\n",
    "\n",
    "    # initialize the grid\n",
    "    num_rows = bottom - top\n",
    "    num_columns = right - left\n",
    "    grid = [['-' for _ in range(num_columns)] for _ in range(num_rows)]\n",
    "\n",
    "    # update the grid according to deposits\n",
    "    for row in range(top, top + num_rows):\n",
    "        for col in range(left, left + num_columns):\n",
    "            if any(r == row and c == col for r, c, d in deposits):\n",
    "                ans += 'X'\n",
    "            else:\n",
    "                ans += '-'\n",
    "        ans += '\\n'\n",
    "\n",
    "    return ans.rstrip('\\n')\n",
    "\n",
    "print(display(deposits, 0, 8, 0, 8))\n"
   ]
  },
  {
   "cell_type": "markdown",
   "metadata": {},
   "source": [
    "For example, your function should replicate the following behavior for the example grid:\n",
    "```\n",
    "print(display(deposits, 0, 8, 0, 8))\n",
    "----X---\n",
    "--------\n",
    "--------\n",
    "-----X-X\n",
    "--------\n",
    "-----X--\n",
    "--X-----\n",
    "-------X\n",
    "\n",
    "print(display(deposits, 5, 8, 5, 8))\n",
    "X--\n",
    "---\n",
    "--X\n",
    "\n",
    "```\n"
   ]
  },
  {
   "cell_type": "markdown",
   "metadata": {},
   "source": [
    "**2b (15 points)** Next, complete the following function to compute the total number of tons (as a float) in a rectangular sub-region of the grid."
   ]
  },
  {
   "cell_type": "code",
   "execution_count": 65,
   "metadata": {},
   "outputs": [
    {
     "name": "stdout",
     "output_type": "stream",
     "text": [
      "total tons: 7.1000000000000005\n",
      "----0.3---\n",
      "--------\n",
      "--------\n",
      "-----0.8-2.2\n",
      "--------\n",
      "-----0.5--\n",
      "--3-----\n",
      "-------0.3\n",
      "\n"
     ]
    }
   ],
   "source": [
    "def tons_inside(deposits, top, bottom, left, right):\n",
    "    \"\"\"Returns the total number of tons of deposits for which the row is at least top,\n",
    "    but strictly less than bottom, and the column is at least left, but strictly\n",
    "    less than right.\"\"\"\n",
    "    ans = \"\" # delete this line and enter your own code\n",
    "\n",
    "    # each row is numbered from 0 to n-1 where 0 is the top and n-1 is the bottom\n",
    "    # each column is also numbered from 0 to n-1 where 0 is the left and n-1 is the right\n",
    "\n",
    "    # initialize the grid\n",
    "    num_rows = bottom - top\n",
    "    num_columns = right - left\n",
    "    grid = [['-' for _ in range(num_columns)] for _ in range(num_rows)]\n",
    "    total = 0.0\n",
    "\n",
    "    # update the grid according to deposits\n",
    "    for row in range(top, top + num_rows):\n",
    "        for col in range(left, left + num_columns):\n",
    "            deposit_value = None\n",
    "            for r, c, d in deposits:\n",
    "                if r == row and c == col:\n",
    "                    deposit_value = d\n",
    "                    total += deposit_value\n",
    "                    break\n",
    "            ans += str(deposit_value) if deposit_value is not None else '-'\n",
    "        ans += '\\n'\n",
    "    \n",
    "    print(f'total tons: {total}')\n",
    "    return ans\n",
    "\n",
    "print(tons_inside(deposits, 0, 8, 0, 8))\n"
   ]
  },
  {
   "cell_type": "markdown",
   "metadata": {
    "collapsed": true
   },
   "source": [
    "### Problem 3:  Birthday planning (15 pts)\n",
    "\n",
    "Suppose you record a list of birthdays for your classmates, recorded as month day tuples.  An example is given below."
   ]
  },
  {
   "cell_type": "code",
   "execution_count": 92,
   "metadata": {},
   "outputs": [],
   "source": [
    "# The 2nd to last tuple needs the int(2) in it so that it is uniquely stored in memory compared to (2,8)\n",
    "# Under the hood Python 3.7 changed how these are stored so (2,8) and (2,8) are stored in the same location\n",
    "# and then the algorithm below doesn't work\n",
    "\n",
    "dates = [(3,14),(2,8),(10,25),(5,17),(3,2),(7,25),(4,30),(8,7),(int(2),8),(1,22),(2, int(8))]"
   ]
  },
  {
   "cell_type": "markdown",
   "metadata": {},
   "source": [
    "You read about the famous birthday problem and you become interested in the number of pairs of classmates that share the same birthday. Below is an algorithm you write to do this. (Note: the ```is``` operator tests that two operands point to the same object)"
   ]
  },
  {
   "cell_type": "code",
   "execution_count": 94,
   "metadata": {},
   "outputs": [],
   "source": [
    "def birthday_original(dates_list):\n",
    "    count = 0\n",
    "\n",
    "    for person_a in dates_list:\n",
    "        for person_b in dates_list:\n",
    "            # Make sure we have different people        \n",
    "\n",
    "            if person_a is person_b:\n",
    "                continue\n",
    "\n",
    "            # Check both month and day\n",
    "            if person_a[0] == person_b[0] and person_a[1] == person_b[1]:\n",
    "                count += 1\n",
    "                \n",
    "    # We counted each pair twice (e.g. jane-bob and bob-jane) so divide by 2:          \n",
    "    return count//2"
   ]
  },
  {
   "cell_type": "code",
   "execution_count": 98,
   "metadata": {},
   "outputs": [
    {
     "data": {
      "text/plain": [
       "3"
      ]
     },
     "execution_count": 98,
     "metadata": {},
     "output_type": "execute_result"
    }
   ],
   "source": [
    "birthday_original(dates)"
   ]
  },
  {
   "cell_type": "markdown",
   "metadata": {},
   "source": [
    "You notice that your initial algorithm is inefficient in that it counts each pair twice. For example, it will increment count once when person_a is Jane and person_b is Bob, and again when person_a is Bob and person_b is Jane. Revise the algorithm so that it only looks at each pair once and has an average run-time of **ϴ**(n). Put that code in the function below - the function just needs to return the integer number of Total birthday pairs.\n",
    "\n",
    "**Note:** Your code needs to duplicate the functionality of the algorithm above. It is suggested that you make new `dates` lists and pass them to both functions to test that the results are the same!"
   ]
  },
  {
   "cell_type": "code",
   "execution_count": 99,
   "metadata": {},
   "outputs": [
    {
     "data": {
      "text/plain": [
       "3"
      ]
     },
     "execution_count": 99,
     "metadata": {},
     "output_type": "execute_result"
    }
   ],
   "source": [
    "def birthday_count(dates_list):\n",
    "    \"\"\"Returns the total number of birthday pairs in the dates_list\"\"\"\n",
    "\n",
    "    birthday_counts = {}\n",
    "\n",
    "    for d in dates:\n",
    "        if d in birthday_counts:\n",
    "            birthday_counts[d] += 1\n",
    "        else:\n",
    "            birthday_counts[d] = 1\n",
    "\n",
    "    count = 0\n",
    "\n",
    "    for counts in birthday_counts.values():\n",
    "        if counts > 1:\n",
    "            count += counts * (counts - 1) // 2\n",
    "\n",
    "    return count\n",
    "\n",
    "birthday_count(dates)"
   ]
  },
  {
   "cell_type": "markdown",
   "metadata": {},
   "source": [
    "### Reminder:\n",
    "\n",
    "Copy / paste all of your functions (and only the functions - no other statements outside the functions besides imports) into a file named **midterm.py** and upload that to gradescope!"
   ]
  }
 ],
 "metadata": {
  "kernelspec": {
   "display_name": "Python 3",
   "language": "python",
   "name": "python3"
  },
  "language_info": {
   "codemirror_mode": {
    "name": "ipython",
    "version": 3
   },
   "file_extension": ".py",
   "mimetype": "text/x-python",
   "name": "python",
   "nbconvert_exporter": "python",
   "pygments_lexer": "ipython3",
   "version": "3.9.6"
  },
  "widgets": {
   "state": {},
   "version": "1.1.2"
  }
 },
 "nbformat": 4,
 "nbformat_minor": 1
}
